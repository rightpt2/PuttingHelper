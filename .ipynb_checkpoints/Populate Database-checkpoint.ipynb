{
 "cells": [
  {
   "cell_type": "code",
   "execution_count": 5,
   "metadata": {
    "collapsed": true
   },
   "outputs": [],
   "source": [
    "import os\n",
    "import sys\n",
    "from sqlalchemy import Column, ForeignKey, Integer, String\n",
    "from sqlalchemy.ext.declarative import declarative_base\n",
    "from sqlalchemy.orm import relationship\n",
    "from sqlalchemy import create_engine"
   ]
  },
  {
   "cell_type": "code",
   "execution_count": 7,
   "metadata": {
    "collapsed": true
   },
   "outputs": [],
   "source": [
    "Base = declarative_base()\n",
    " \n",
    "class PuttData(Base):\n",
    "    __tablename__ = 'PuttDataTbl'\n",
    "    # Here we define columns for the table person\n",
    "    # Notice that each column is also a normal Python instance attribute.\n",
    "    id = Column(Integer, primary_key=True)\n",
    "    Skill = Column(String(250), nullable=False)\n",
    "    Length = Column(Integer, nullable=False)\n",
    "    UpPercent = Column(Integer, nullable=False)\n",
    "    Slope = Column(String(250), nullable=False)\n",
    "    One = Column(Integer, nullable=False)\n",
    "    Two = Column(Integer, nullable=False)     \n",
    "    Three = Column(Integer, nullable=False)\n",
    "    Four = Column(Integer, nullable=False)    \n",
    "        \n",
    "# Create an engine that stores data in the local directory's\n",
    "# sqlalchemy_example.db file.\n",
    "engine = create_engine('sqlite:///mydatabase.db')\n",
    " \n",
    "# Create all tables in the engine. This is equivalent to \"Create Table\"\n",
    "# statements in raw SQL.\n",
    "Base.metadata.create_all(engine)"
   ]
  },
  {
   "cell_type": "code",
   "execution_count": 44,
   "metadata": {
    "collapsed": true
   },
   "outputs": [],
   "source": [
    "DBSession = sessionmaker(bind=engine)\n",
    "# A DBSession() instance establishes all conversations with the database\n",
    "# and represents a \"staging zone\" for all the objects loaded into the\n",
    "# database session object. Any change made against the objects in the\n",
    "# session won't be persisted into the database until you call\n",
    "# session.commit(). If you're not happy about the changes, you can\n",
    "# revert all of them back to the last commit by calling\n",
    "# session.rollback()\n",
    "session = DBSession()\n",
    " \n"
   ]
  },
  {
   "cell_type": "code",
   "execution_count": 45,
   "metadata": {
    "collapsed": true
   },
   "outputs": [],
   "source": [
    "# lets read the table now\n",
    "import pandas as pd\n",
    "\n",
    "df = pd.read_excel(\"PuttAppData.xls\")"
   ]
  },
  {
   "cell_type": "code",
   "execution_count": 46,
   "metadata": {},
   "outputs": [
    {
     "data": {
      "text/html": [
       "<div>\n",
       "<style>\n",
       "    .dataframe thead tr:only-child th {\n",
       "        text-align: right;\n",
       "    }\n",
       "\n",
       "    .dataframe thead th {\n",
       "        text-align: left;\n",
       "    }\n",
       "\n",
       "    .dataframe tbody tr th {\n",
       "        vertical-align: top;\n",
       "    }\n",
       "</style>\n",
       "<table border=\"1\" class=\"dataframe\">\n",
       "  <thead>\n",
       "    <tr style=\"text-align: right;\">\n",
       "      <th></th>\n",
       "      <th>Skill</th>\n",
       "      <th>Length</th>\n",
       "      <th>UpPercent</th>\n",
       "      <th>Slope</th>\n",
       "      <th>1</th>\n",
       "      <th>2</th>\n",
       "      <th>3</th>\n",
       "      <th>4</th>\n",
       "    </tr>\n",
       "  </thead>\n",
       "  <tbody>\n",
       "    <tr>\n",
       "      <th>0</th>\n",
       "      <td>Good</td>\n",
       "      <td>3</td>\n",
       "      <td>-10</td>\n",
       "      <td>Low</td>\n",
       "      <td>82.0</td>\n",
       "      <td>120.0</td>\n",
       "      <td>155.0</td>\n",
       "      <td>200.0</td>\n",
       "    </tr>\n",
       "    <tr>\n",
       "      <th>1</th>\n",
       "      <td>Good</td>\n",
       "      <td>3</td>\n",
       "      <td>-10</td>\n",
       "      <td>Medium</td>\n",
       "      <td>78.0</td>\n",
       "      <td>115.0</td>\n",
       "      <td>148.0</td>\n",
       "      <td>214.0</td>\n",
       "    </tr>\n",
       "    <tr>\n",
       "      <th>2</th>\n",
       "      <td>Good</td>\n",
       "      <td>3</td>\n",
       "      <td>-10</td>\n",
       "      <td>High</td>\n",
       "      <td>75.0</td>\n",
       "      <td>110.0</td>\n",
       "      <td>142.0</td>\n",
       "      <td>205.0</td>\n",
       "    </tr>\n",
       "    <tr>\n",
       "      <th>3</th>\n",
       "      <td>Good</td>\n",
       "      <td>3</td>\n",
       "      <td>-5</td>\n",
       "      <td>Low</td>\n",
       "      <td>86.0</td>\n",
       "      <td>126.0</td>\n",
       "      <td>162.0</td>\n",
       "      <td>235.0</td>\n",
       "    </tr>\n",
       "    <tr>\n",
       "      <th>4</th>\n",
       "      <td>Good</td>\n",
       "      <td>3</td>\n",
       "      <td>-5</td>\n",
       "      <td>Medium</td>\n",
       "      <td>83.0</td>\n",
       "      <td>121.0</td>\n",
       "      <td>156.0</td>\n",
       "      <td>226.0</td>\n",
       "    </tr>\n",
       "  </tbody>\n",
       "</table>\n",
       "</div>"
      ],
      "text/plain": [
       "  Skill  Length  UpPercent   Slope     1      2      3      4\n",
       "0  Good       3        -10     Low  82.0  120.0  155.0  200.0\n",
       "1  Good       3        -10  Medium  78.0  115.0  148.0  214.0\n",
       "2  Good       3        -10    High  75.0  110.0  142.0  205.0\n",
       "3  Good       3         -5     Low  86.0  126.0  162.0  235.0\n",
       "4  Good       3         -5  Medium  83.0  121.0  156.0  226.0"
      ]
     },
     "execution_count": 46,
     "metadata": {},
     "output_type": "execute_result"
    }
   ],
   "source": [
    "df.head(5)"
   ]
  },
  {
   "cell_type": "code",
   "execution_count": 47,
   "metadata": {},
   "outputs": [
    {
     "data": {
      "text/plain": [
       "Skill        Good\n",
       "Length          3\n",
       "UpPercent     -10\n",
       "Slope         Low\n",
       "1              82\n",
       "2             120\n",
       "3             155\n",
       "4             200\n",
       "Name: 0, dtype: object"
      ]
     },
     "execution_count": 47,
     "metadata": {},
     "output_type": "execute_result"
    }
   ],
   "source": [
    "df.iloc[0,:]"
   ]
  },
  {
   "cell_type": "code",
   "execution_count": 48,
   "metadata": {},
   "outputs": [
    {
     "data": {
      "text/plain": [
       "'Good'"
      ]
     },
     "execution_count": 48,
     "metadata": {},
     "output_type": "execute_result"
    }
   ],
   "source": [
    "df.iloc[0,:]['Skill']"
   ]
  },
  {
   "cell_type": "code",
   "execution_count": 49,
   "metadata": {},
   "outputs": [
    {
     "data": {
      "text/plain": [
       "882"
      ]
     },
     "execution_count": 49,
     "metadata": {},
     "output_type": "execute_result"
    }
   ],
   "source": [
    "df.shape[0]"
   ]
  },
  {
   "cell_type": "code",
   "execution_count": 51,
   "metadata": {
    "collapsed": true
   },
   "outputs": [],
   "source": [
    "for row in range(df.shape[0]):\n",
    "    \n",
    "    new_putt = PuttData(Skill = df.iloc[row,:]['Skill'],\n",
    "                        Length = int(df.iloc[row,:]['Length']),\n",
    "                        UpPercent = int(df.iloc[row,:]['UpPercent']),\n",
    "                        Slope = df.iloc[row,:]['Slope'],\n",
    "                        One = int(df.iloc[row,:][1]),\n",
    "                        Two = int(df.iloc[row,:][2]),\n",
    "                        Three = int(df.iloc[row,:][3]),\n",
    "                        Four = int(df.iloc[row,:][4])\n",
    "                        )\n",
    "\n",
    "    session.add(new_putt)\n",
    "    session.commit()"
   ]
  },
  {
   "cell_type": "code",
   "execution_count": null,
   "metadata": {
    "collapsed": true
   },
   "outputs": [],
   "source": [
    "dfTest = pd.rea"
   ]
  }
 ],
 "metadata": {
  "kernelspec": {
   "display_name": "Python 3",
   "language": "python",
   "name": "python3"
  },
  "language_info": {
   "codemirror_mode": {
    "name": "ipython",
    "version": 3
   },
   "file_extension": ".py",
   "mimetype": "text/x-python",
   "name": "python",
   "nbconvert_exporter": "python",
   "pygments_lexer": "ipython3",
   "version": "3.6.1"
  }
 },
 "nbformat": 4,
 "nbformat_minor": 2
}
